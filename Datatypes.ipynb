{
 "cells": [
  {
   "cell_type": "markdown",
   "metadata": {},
   "source": [
    "# **types of datatypes in python**"
   ]
  },
  {
   "cell_type": "markdown",
   "metadata": {},
   "source": [
    "***"
   ]
  },
  {
   "cell_type": "markdown",
   "metadata": {},
   "source": [
    "### Numeric types **int , flaot , complec**"
   ]
  },
  {
   "cell_type": "code",
   "execution_count": null,
   "metadata": {},
   "outputs": [
    {
     "name": "stdout",
     "output_type": "stream",
     "text": [
      "10\n",
      "<class 'int'>\n"
     ]
    }
   ],
   "source": [
    "#int (immutable)\n",
    "a=10\n",
    "print(a)\n",
    "print(type(a))"
   ]
  },
  {
   "cell_type": "code",
   "execution_count": null,
   "metadata": {},
   "outputs": [
    {
     "name": "stdout",
     "output_type": "stream",
     "text": [
      "10.99\n",
      "<class 'float'>\n"
     ]
    }
   ],
   "source": [
    "#float (immutable)\n",
    "a=10.99\n",
    "print(a)\n",
    "print(type(a))"
   ]
  },
  {
   "cell_type": "code",
   "execution_count": null,
   "metadata": {},
   "outputs": [
    {
     "name": "stdout",
     "output_type": "stream",
     "text": [
      "(10+3j)\n",
      "<class 'complex'>\n"
     ]
    }
   ],
   "source": [
    "#complex : fromat : real_number + imaginary_number j (immutable)\n",
    "a = 10+3j\n",
    "print(a)\n",
    "print(type(a))"
   ]
  },
  {
   "cell_type": "markdown",
   "metadata": {},
   "source": [
    "### Sequence types **str , list , tuple , range**"
   ]
  },
  {
   "cell_type": "code",
   "execution_count": 5,
   "metadata": {},
   "outputs": [
    {
     "name": "stdout",
     "output_type": "stream",
     "text": [
      "random string\n",
      "<class 'str'>\n"
     ]
    }
   ],
   "source": [
    "#str  (mutable)\n",
    "name = \"random string\"\n",
    "print(name)\n",
    "print(type(name))"
   ]
  },
  {
   "cell_type": "code",
   "execution_count": null,
   "metadata": {},
   "outputs": [
    {
     "name": "stdout",
     "output_type": "stream",
     "text": [
      "[1, 2, 3, 4, 5, 6]\n",
      "<class 'list'>\n"
     ]
    }
   ],
   "source": [
    "#list (mutable)\n",
    "py_list = [1,2,3,4,5,6]\n",
    "print(py_list)\n",
    "print(type(py_list))"
   ]
  },
  {
   "cell_type": "code",
   "execution_count": 7,
   "metadata": {},
   "outputs": [
    {
     "name": "stdout",
     "output_type": "stream",
     "text": [
      "(1, 2, 3, 4, 5)\n",
      "<class 'tuple'>\n"
     ]
    }
   ],
   "source": [
    "#tuple (immutable)\n",
    "py_tuple = (1,2,3,4,5)\n",
    "print(py_tuple)\n",
    "print(type(py_tuple))"
   ]
  },
  {
   "cell_type": "code",
   "execution_count": 10,
   "metadata": {},
   "outputs": [
    {
     "name": "stdout",
     "output_type": "stream",
     "text": [
      "range(1, 11)\n",
      "<class 'range'>\n",
      "[1, 2, 3, 4, 5, 6, 7, 8, 9, 10]\n",
      "<class 'list'>\n"
     ]
    }
   ],
   "source": [
    "#range() immutable format : range(start_number,end_number+1,step_number)\n",
    "py_range = range(1,11,1)\n",
    "print(py_range)\n",
    "print(type(py_range))\n",
    "\n",
    "#convert range to list\n",
    "py_range = list(range(1,11,1))\n",
    "print(py_range)\n",
    "print(type(py_range))"
   ]
  },
  {
   "cell_type": "markdown",
   "metadata": {},
   "source": [
    "### Mapping type **dict**"
   ]
  },
  {
   "cell_type": "code",
   "execution_count": null,
   "metadata": {},
   "outputs": [
    {
     "name": "stdout",
     "output_type": "stream",
     "text": [
      "{'name': 'random person', 'age': 20, 'city': 'Ananthapur'}\n",
      "<class 'dict'>\n"
     ]
    }
   ],
   "source": [
    "#dict (mutable) format {'key' : 'value'} keys acts as index \n",
    "py_dict = {\"name\" : \"random person\",'age':20,'city':'Ananthapur'}\n",
    "print(py_dict)\n",
    "print(type(py_dict))"
   ]
  },
  {
   "cell_type": "markdown",
   "metadata": {},
   "source": [
    "### Set types **set , frozenset**"
   ]
  },
  {
   "cell_type": "code",
   "execution_count": null,
   "metadata": {},
   "outputs": [
    {
     "name": "stdout",
     "output_type": "stream",
     "text": [
      "{1, 2, 3, 4, 'random'}\n",
      "<class 'set'>\n"
     ]
    }
   ],
   "source": [
    "\"\"\"set  the main difference between set and list is : \"\n",
    "1)brackets  \n",
    "2)mutable\n",
    "3)set do not return duplicate values \n",
    "4)we can't access the values in sets using indexes \n",
    "\"\"\"\n",
    "py_set = {1,2,3,4,\"random\"}\n",
    "print(py_set)\n",
    "print(type(py_set))"
   ]
  },
  {
   "cell_type": "code",
   "execution_count": 14,
   "metadata": {},
   "outputs": [
    {
     "ename": "TypeError",
     "evalue": "'set' object is not subscriptable",
     "output_type": "error",
     "traceback": [
      "\u001b[31m---------------------------------------------------------------------------\u001b[39m",
      "\u001b[31mTypeError\u001b[39m                                 Traceback (most recent call last)",
      "\u001b[36mCell\u001b[39m\u001b[36m \u001b[39m\u001b[32mIn[14]\u001b[39m\u001b[32m, line 3\u001b[39m\n\u001b[32m      1\u001b[39m \u001b[38;5;66;03m#try to access set values using index\u001b[39;00m\n\u001b[32m      2\u001b[39m py_set = {\u001b[32m1\u001b[39m,\u001b[32m2\u001b[39m,\u001b[32m3\u001b[39m,\u001b[32m4\u001b[39m,\u001b[33m\"\u001b[39m\u001b[33mrandom\u001b[39m\u001b[33m\"\u001b[39m}\n\u001b[32m----> \u001b[39m\u001b[32m3\u001b[39m \u001b[38;5;28mprint\u001b[39m(\u001b[43mpy_set\u001b[49m\u001b[43m[\u001b[49m\u001b[32;43m1\u001b[39;49m\u001b[43m]\u001b[49m)\n",
      "\u001b[31mTypeError\u001b[39m: 'set' object is not subscriptable"
     ]
    }
   ],
   "source": [
    "#try to access set values using index\n",
    "py_set = {1,2,3,4,\"random\"}\n",
    "print(py_set[1])"
   ]
  },
  {
   "cell_type": "code",
   "execution_count": 15,
   "metadata": {},
   "outputs": [
    {
     "name": "stdout",
     "output_type": "stream",
     "text": [
      "{1, 2, 3, 4, 'random'}\n"
     ]
    }
   ],
   "source": [
    "#check whether the set return duplicate values are not\n",
    "py_set = {1,2,3,4,\"random\",3,2,4,1}\n",
    "print(py_set)"
   ]
  },
  {
   "cell_type": "code",
   "execution_count": 18,
   "metadata": {},
   "outputs": [
    {
     "name": "stdout",
     "output_type": "stream",
     "text": [
      "frozenset({1, 2, 3, 4, 5})\n",
      "<class 'frozenset'>\n"
     ]
    }
   ],
   "source": [
    "#frozen set (immutable)\n",
    "py_frozenset = frozenset({1,2,3,4,5})\n",
    "print(py_frozenset)\n",
    "print(type(py_frozenset))"
   ]
  },
  {
   "cell_type": "markdown",
   "metadata": {},
   "source": [
    "### Boolean type **bool**"
   ]
  },
  {
   "cell_type": "code",
   "execution_count": null,
   "metadata": {},
   "outputs": [
    {
     "name": "stdout",
     "output_type": "stream",
     "text": [
      "False\n"
     ]
    }
   ],
   "source": [
    "#boolean  : \n",
    "# boolean are commonly used in conditons \n",
    "# booleans have only two values (True or False) \n",
    "age = 20\n",
    "print(age>25)"
   ]
  },
  {
   "cell_type": "markdown",
   "metadata": {},
   "source": [
    "### Binary types **bytes , bytearray , memoryview**"
   ]
  },
  {
   "cell_type": "code",
   "execution_count": null,
   "metadata": {},
   "outputs": [
    {
     "name": "stdout",
     "output_type": "stream",
     "text": [
      "b'hello world'\n",
      "<class 'bytes'>\n"
     ]
    }
   ],
   "source": [
    "#bytes (immutable) : bytes values intitalized using the b letter before the actual value\n",
    "py_bytes = b\"hello world\"\n",
    "print(py_bytes)\n",
    "print(type(py_bytes))"
   ]
  },
  {
   "cell_type": "code",
   "execution_count": 19,
   "metadata": {},
   "outputs": [
    {
     "name": "stdout",
     "output_type": "stream",
     "text": [
      "bytearray(b'hello world')\n",
      "<class 'bytearray'>\n"
     ]
    }
   ],
   "source": [
    "#bytearray (mutable)\n",
    "py_bytearray = bytearray(b\"hello world\")\n",
    "print(py_bytearray)\n",
    "print(type(py_bytearray))"
   ]
  },
  {
   "cell_type": "code",
   "execution_count": 20,
   "metadata": {},
   "outputs": [
    {
     "name": "stdout",
     "output_type": "stream",
     "text": [
      "<memory at 0x000001B79ED8B100>\n",
      "<class 'memoryview'>\n"
     ]
    }
   ],
   "source": [
    "#memory view : used to view the address of the variable\n",
    "py_bytes = b\"hello buddy\"\n",
    "py_mv=memoryview(py_bytes)\n",
    "print(py_mv)\n",
    "print(type(py_mv))\n"
   ]
  },
  {
   "cell_type": "markdown",
   "metadata": {},
   "source": [
    "### None type **NoneType**"
   ]
  },
  {
   "cell_type": "code",
   "execution_count": 25,
   "metadata": {},
   "outputs": [
    {
     "name": "stdout",
     "output_type": "stream",
     "text": [
      "None\n",
      "<class 'NoneType'>\n"
     ]
    }
   ],
   "source": [
    "#nonetype : are  used when there is no value assign to the varaibles then we will assign the none to the variable\n",
    "py_none = None\n",
    "print(py_none)\n",
    "print(type(py_none))\n"
   ]
  }
 ],
 "metadata": {
  "kernelspec": {
   "display_name": "Python 3",
   "language": "python",
   "name": "python3"
  },
  "language_info": {
   "codemirror_mode": {
    "name": "ipython",
    "version": 3
   },
   "file_extension": ".py",
   "mimetype": "text/x-python",
   "name": "python",
   "nbconvert_exporter": "python",
   "pygments_lexer": "ipython3",
   "version": "3.12.3"
  }
 },
 "nbformat": 4,
 "nbformat_minor": 2
}
