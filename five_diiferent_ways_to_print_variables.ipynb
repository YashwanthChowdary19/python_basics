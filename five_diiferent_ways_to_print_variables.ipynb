{
 "cells": [
  {
   "cell_type": "markdown",
   "metadata": {},
   "source": [
    "# 5 Ways to print the **variables**"
   ]
  },
  {
   "cell_type": "markdown",
   "metadata": {},
   "source": [
    "***"
   ]
  },
  {
   "cell_type": "markdown",
   "metadata": {},
   "source": [
    "### 1. using **comma**"
   ]
  },
  {
   "cell_type": "code",
   "execution_count": null,
   "metadata": {},
   "outputs": [
    {
     "name": "stdout",
     "output_type": "stream",
     "text": [
      "learning python\n",
      " I am learning programming language called python\n"
     ]
    }
   ],
   "source": [
    "# printing the variables using comma \n",
    "\n",
    "var1 = 'learning'\n",
    "var2 = 'python'\n",
    "print(var1,var2)\n",
    "\n",
    "#printing the sentences with variables using comma\n",
    "\n",
    "print(\" I am\",var1,\"programming language called\",var2)"
   ]
  },
  {
   "cell_type": "markdown",
   "metadata": {},
   "source": [
    "### 2. using **f-string** (formatted-string)"
   ]
  },
  {
   "cell_type": "code",
   "execution_count": 2,
   "metadata": {},
   "outputs": [
    {
     "name": "stdout",
     "output_type": "stream",
     "text": [
      " I am learning programming language called python\n"
     ]
    }
   ],
   "source": [
    "#printing the variables using curly brackets\n",
    "#at starting the sentence we need to give f\n",
    "print(f\" I am {var1} programming language called {var2}\")"
   ]
  },
  {
   "cell_type": "markdown",
   "metadata": {},
   "source": [
    "### 3. using string **concatenation**"
   ]
  },
  {
   "cell_type": "code",
   "execution_count": null,
   "metadata": {},
   "outputs": [
    {
     "name": "stdout",
     "output_type": "stream",
     "text": [
      "I am learning programming language called python\n"
     ]
    }
   ],
   "source": [
    "#printing the variables using + symbol\n",
    "#note : in this case we have to give space between words \n",
    "print(\"I am \"+var1+\" programming language called \"+var2)"
   ]
  },
  {
   "cell_type": "markdown",
   "metadata": {},
   "source": [
    "### 4. using **format()**"
   ]
  },
  {
   "cell_type": "code",
   "execution_count": 7,
   "metadata": {},
   "outputs": [
    {
     "name": "stdout",
     "output_type": "stream",
     "text": [
      "I am learning programming language called python\n",
      "I am learning programming language called python\n",
      "I am learning programming language called python\n"
     ]
    }
   ],
   "source": [
    "#printing the variables with only curly brackets\n",
    "print(\"I am {} programming language called {}\".format(var1,var2))\n",
    "#printing the variables with indexing in curly brackets\n",
    "print(\"I am {0} programming language called {1}\".format(var1,var2))# index 0 means var1 and 1 means var2\n",
    "##printing the variables with naming  in curly brackets\n",
    "print(\"I am {learn} programming language called {lang}\".format(learn=var1,lang=var2))# we are telling that where thw learn name is there print var1 and samething for others also"
   ]
  },
  {
   "cell_type": "markdown",
   "metadata": {},
   "source": [
    "### 5. using **%** formatting"
   ]
  },
  {
   "cell_type": "code",
   "execution_count": 11,
   "metadata": {},
   "outputs": [
    {
     "name": "stdout",
     "output_type": "stream",
     "text": [
      "I am learning programming language called python\n",
      "10 + 20\n",
      "10 + 20\n"
     ]
    }
   ],
   "source": [
    "#printing the variables using percenatge(%) format \n",
    "# consider strings\n",
    "print(\"I am %s programming language called %s\" % (var1,var2))\n",
    "# consider integers\n",
    "a,b=10,20\n",
    "print(\"%d + %d\" %(a,b))\n",
    "# or you can use \"%i\" in the place of \"%d\" for integers\n",
    "print(\"%i + %i\" %(a,b))"
   ]
  }
 ],
 "metadata": {
  "kernelspec": {
   "display_name": "Python 3",
   "language": "python",
   "name": "python3"
  },
  "language_info": {
   "codemirror_mode": {
    "name": "ipython",
    "version": 3
   },
   "file_extension": ".py",
   "mimetype": "text/x-python",
   "name": "python",
   "nbconvert_exporter": "python",
   "pygments_lexer": "ipython3",
   "version": "3.12.3"
  }
 },
 "nbformat": 4,
 "nbformat_minor": 2
}
