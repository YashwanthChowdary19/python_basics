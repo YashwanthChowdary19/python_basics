{
 "cells": [
  {
   "cell_type": "markdown",
   "metadata": {},
   "source": [
    "# Mutable and Immutable concept"
   ]
  },
  {
   "cell_type": "markdown",
   "metadata": {},
   "source": [
    "***"
   ]
  },
  {
   "cell_type": "markdown",
   "metadata": {},
   "source": [
    "### Mutable : we can change the value at any index in the same memory location\n",
    "#### Mutable Datatypes : **list , dict , set , bytearray**"
   ]
  },
  {
   "cell_type": "code",
   "execution_count": 5,
   "metadata": {},
   "outputs": [
    {
     "name": "stdout",
     "output_type": "stream",
     "text": [
      " Before changing : [1, 2, 3, 4, 5]\n",
      " Before changing : 2601965875456\n",
      " After changing : [1, 2, 10, 4, 5]\n",
      " After changing : 2601965875456\n"
     ]
    }
   ],
   "source": [
    "#consider the list \n",
    "\n",
    "py_list = [1,2,3,4,5]\n",
    "print(f\" Before changing : {py_list}\")\n",
    "print(f\" Before changing : {id(py_list)}\")\n",
    "py_list[2]=10\n",
    "print(f\" After changing : {py_list}\")\n",
    "print(f\" After changing : {id(py_list)}\")\n",
    "\n",
    "# Note : in the below ouput the address is same after the changing the value also ,so it is mutable"
   ]
  },
  {
   "cell_type": "code",
   "execution_count": null,
   "metadata": {},
   "outputs": [
    {
     "name": "stdout",
     "output_type": "stream",
     "text": [
      " Before changing : {'name': 'random person', 'age': 20, 'city': 'Anathapur'}\n",
      " Before changing : 2601966280832\n",
      " After changing : {'name': 'random person', 'age': 25, 'city': 'Anathapur'}\n",
      " After changing : 2601966280832\n"
     ]
    }
   ],
   "source": [
    "#consider the dictionary\n",
    "\n",
    "py_dict = {'name' : 'random person' , 'age' :20 ,'city' : \"Anathapur\"}\n",
    "print(f\" Before changing : {py_dict}\")\n",
    "print(f\" Before changing : {id(py_dict)}\")\n",
    "py_dict['age'] = 25\n",
    "print(f\" After changing : {py_dict}\")\n",
    "print(f\" After changing : {id(py_dict)}\")\n",
    "\n",
    "# address is same ,so mutable\n",
    "\n",
    "#similar to remaining mutable datatypes "
   ]
  },
  {
   "cell_type": "markdown",
   "metadata": {},
   "source": [
    "### Immutable Datatypes : we can't change the value at any index in the same memory location"
   ]
  },
  {
   "cell_type": "markdown",
   "metadata": {},
   "source": [
    "#### Mutable Datatypes : **int , float , complex , str , tuple , bytes , bytearray , range , boolean , set**"
   ]
  },
  {
   "cell_type": "code",
   "execution_count": null,
   "metadata": {},
   "outputs": [
    {
     "name": "stdout",
     "output_type": "stream",
     "text": [
      " Before changing : 10\n",
      " Before changing : 140714191559384\n",
      " After changing : 25\n",
      " After changing : 140714191559864\n"
     ]
    }
   ],
   "source": [
    "#consider int\n",
    "py_int = 10\n",
    "print(f\" Before changing : {py_int}\")\n",
    "print(f\" Before changing : {id(py_int)}\")\n",
    "py_int = 25\n",
    "print(f\" After changing : {py_int}\")\n",
    "print(f\" After changing : {id(py_int)}\")\n",
    "\n",
    "# addresses are different ,so immutable"
   ]
  },
  {
   "cell_type": "code",
   "execution_count": 12,
   "metadata": {},
   "outputs": [
    {
     "name": "stdout",
     "output_type": "stream",
     "text": [
      " Before changing : (1, 2, 3, 4, 5)\n",
      " Before changing : 2601972061008\n"
     ]
    },
    {
     "ename": "TypeError",
     "evalue": "'tuple' object does not support item assignment",
     "output_type": "error",
     "traceback": [
      "\u001b[31m---------------------------------------------------------------------------\u001b[39m",
      "\u001b[31mTypeError\u001b[39m                                 Traceback (most recent call last)",
      "\u001b[36mCell\u001b[39m\u001b[36m \u001b[39m\u001b[32mIn[12]\u001b[39m\u001b[32m, line 5\u001b[39m\n\u001b[32m      3\u001b[39m \u001b[38;5;28mprint\u001b[39m(\u001b[33mf\u001b[39m\u001b[33m\"\u001b[39m\u001b[33m Before changing : \u001b[39m\u001b[38;5;132;01m{\u001b[39;00mpy_tuple\u001b[38;5;132;01m}\u001b[39;00m\u001b[33m\"\u001b[39m)\n\u001b[32m      4\u001b[39m \u001b[38;5;28mprint\u001b[39m(\u001b[33mf\u001b[39m\u001b[33m\"\u001b[39m\u001b[33m Before changing : \u001b[39m\u001b[38;5;132;01m{\u001b[39;00m\u001b[38;5;28mid\u001b[39m(py_tuple)\u001b[38;5;132;01m}\u001b[39;00m\u001b[33m\"\u001b[39m)\n\u001b[32m----> \u001b[39m\u001b[32m5\u001b[39m \u001b[43mpy_tuple\u001b[49m\u001b[43m[\u001b[49m\u001b[32;43m2\u001b[39;49m\u001b[43m]\u001b[49m=\u001b[32m10\u001b[39m\n\u001b[32m      6\u001b[39m \u001b[38;5;28mprint\u001b[39m(\u001b[33mf\u001b[39m\u001b[33m\"\u001b[39m\u001b[33m After changing : \u001b[39m\u001b[38;5;132;01m{\u001b[39;00mpy_tuple\u001b[38;5;132;01m}\u001b[39;00m\u001b[33m\"\u001b[39m)\n\u001b[32m      7\u001b[39m \u001b[38;5;28mprint\u001b[39m(\u001b[33mf\u001b[39m\u001b[33m\"\u001b[39m\u001b[33m After changing : \u001b[39m\u001b[38;5;132;01m{\u001b[39;00m\u001b[38;5;28mid\u001b[39m(py_tuple)\u001b[38;5;132;01m}\u001b[39;00m\u001b[33m\"\u001b[39m)\n",
      "\u001b[31mTypeError\u001b[39m: 'tuple' object does not support item assignment"
     ]
    }
   ],
   "source": [
    "#consider tuple\n",
    "py_tuple = (1,2,3,4,5)\n",
    "print(f\" Before changing : {py_tuple}\")\n",
    "print(f\" Before changing : {id(py_tuple)}\")\n",
    "py_tuple[2]=10\n",
    "print(f\" After changing : {py_tuple}\")\n",
    "print(f\" After changing : {id(py_tuple)}\")\n",
    "\n",
    "# it is not allowing to changing the value ,so it is immutable\n",
    "\n",
    "#similar to remaining immutable datatypes"
   ]
  }
 ],
 "metadata": {
  "kernelspec": {
   "display_name": "Python 3",
   "language": "python",
   "name": "python3"
  },
  "language_info": {
   "codemirror_mode": {
    "name": "ipython",
    "version": 3
   },
   "file_extension": ".py",
   "mimetype": "text/x-python",
   "name": "python",
   "nbconvert_exporter": "python",
   "pygments_lexer": "ipython3",
   "version": "3.12.3"
  }
 },
 "nbformat": 4,
 "nbformat_minor": 2
}
